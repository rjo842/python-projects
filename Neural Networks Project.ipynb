{
 "cells": [
  {
   "cell_type": "markdown",
   "metadata": {
    "id": "b_wD-9Q2iv40"
   },
   "source": [
    "# **Neural Networks Project**"
   ]
  },
  {
   "cell_type": "markdown",
   "metadata": {
    "id": "WKdDuVKgi6AF"
   },
   "source": [
    "Objective is to build a model that can indentify house numbers from an image."
   ]
  },
  {
   "cell_type": "code",
   "execution_count": 1,
   "metadata": {
    "colab": {
     "base_uri": "https://localhost:8080/"
    },
    "id": "-LINf4IjlWOE",
    "outputId": "c2bbe2dc-e35b-42d5-a496-a08fa7424b4d"
   },
   "outputs": [
    {
     "name": "stdout",
     "output_type": "stream",
     "text": [
      "Mounted at /content/drive\n"
     ]
    }
   ],
   "source": [
    "from google.colab import drive\n",
    "drive.mount('/content/drive')"
   ]
  },
  {
   "cell_type": "markdown",
   "metadata": {
    "id": "lUo04iPBlrEG"
   },
   "source": [
    "**Importing libaries:**"
   ]
  },
  {
   "cell_type": "code",
   "execution_count": 2,
   "metadata": {
    "id": "vaJ2EWCqmlJS"
   },
   "outputs": [],
   "source": [
    "import h5py\n",
    "import numpy as np\n",
    "import numpy as np\n",
    "import matplotlib.pyplot as plt\n",
    "%matplotlib inline\n",
    "import warnings\n",
    "warnings.filterwarnings('ignore')\n",
    "from keras.datasets import mnist\n",
    "from keras.models import Sequential\n",
    "from keras.layers import Dense\n",
    "from keras.utils import np_utils"
   ]
  },
  {
   "cell_type": "markdown",
   "metadata": {
    "id": "SJ41xa9gl06o"
   },
   "source": [
    "**Visualizing first 10 images in train set:**"
   ]
  },
  {
   "cell_type": "code",
   "execution_count": 3,
   "metadata": {
    "id": "hnUtrUeRnyet"
   },
   "outputs": [],
   "source": [
    "h5f = h5py.File('/content/drive/My Drive/PGP-AIML/SVHN_single_grey1.h5', 'r')\n",
    "X_train = h5f['X_train'][:]\n",
    "y_train1 = h5f['y_train'][:]\n",
    "X_test = h5f['X_test'][:]\n",
    "y_test1 = h5f['y_test'][:]\n",
    "h5f.close()"
   ]
  },
  {
   "cell_type": "code",
   "execution_count": 4,
   "metadata": {
    "colab": {
     "base_uri": "https://localhost:8080/",
     "height": 59
    },
    "id": "u3C8jdEoyTXE",
    "outputId": "82175218-1845-422e-febd-c34b736f6fc6"
   },
   "outputs": [
    {
     "data": {
      "image/png": "[encoded data removed]",
      "text/plain": [
       "<Figure size 432x288 with 10 Axes>"
      ]
     },
     "metadata": {
      "needs_background": "light",
      "tags": []
     },
     "output_type": "display_data"
    }
   ],
   "source": [
    "for i in range(10):  \n",
    "    plt.subplot(1, 10, i + 1)\n",
    "    plt.imshow(X_train[i].reshape((32, 32)),cmap = plt.cm.binary)\n",
    "    plt.axis('off')\n",
    "plt.show()"
   ]
  },
  {
   "cell_type": "markdown",
   "metadata": {
    "id": "52b-y9homDNe"
   },
   "source": [
    "**Data pre-processing:**"
   ]
  },
  {
   "cell_type": "code",
   "execution_count": 5,
   "metadata": {
    "id": "KBY2_tDtzFZe"
   },
   "outputs": [],
   "source": [
    "seed = 7\n",
    "np.random.seed(seed)"
   ]
  },
  {
   "cell_type": "code",
   "execution_count": 6,
   "metadata": {
    "id": "BQ-m6wQfzGkc"
   },
   "outputs": [],
   "source": [
    "X_train = X_train.reshape(X_train.shape[0], 1024)\n",
    "X_test = X_test.reshape(X_test.shape[0], 1024)"
   ]
  },
  {
   "cell_type": "code",
   "execution_count": 7,
   "metadata": {
    "id": "dA6LuJ4IzYnG"
   },
   "outputs": [],
   "source": [
    "X_train = X_train / 255.0\n",
    "X_test = X_test / 255.0\n",
    "\n",
    "y_train = np_utils.to_categorical(y_train1)\n",
    "y_test = np_utils.to_categorical(y_test1)"
   ]
  },
  {
   "cell_type": "code",
   "execution_count": 8,
   "metadata": {
    "id": "KSt6uhc-zo-3"
   },
   "outputs": [],
   "source": [
    "num_classes = y_test.shape[1]\n",
    "num_hidden = 32"
   ]
  },
  {
   "cell_type": "code",
   "execution_count": 9,
   "metadata": {
    "id": "rvKhJYFCzwZF"
   },
   "outputs": [],
   "source": [
    "x_tr = []\n",
    "for i in range(42000):\n",
    "    x_tr.append(X_train[i,:].flatten())\n",
    "x_te = []\n",
    "for i in range(18000):\n",
    "    x_te.append(X_test[i,:].flatten())"
   ]
  },
  {
   "cell_type": "code",
   "execution_count": 10,
   "metadata": {
    "id": "yktOIYBFzxTC"
   },
   "outputs": [],
   "source": [
    "x_tr =x_tr[:2000]\n",
    "x_te =x_te[:2000]\n",
    "y_tr = y_train1[0:2000]\n",
    "y_te = y_test1[0:2000]"
   ]
  },
  {
   "cell_type": "code",
   "execution_count": 11,
   "metadata": {
    "colab": {
     "base_uri": "https://localhost:8080/",
     "height": 35
    },
    "id": "5S4ES9IZzzaP",
    "outputId": "02404a1b-a54d-4fe6-b2a6-4cb9a3b4ace7"
   },
   "outputs": [
    {
     "data": {
      "application/vnd.google.colaboratory.intrinsic+json": {
       "type": "string"
      },
      "text/plain": [
       "'2.5.0'"
      ]
     },
     "execution_count": 11,
     "metadata": {
      "tags": []
     },
     "output_type": "execute_result"
    }
   ],
   "source": [
    "import tensorflow as tf\n",
    "tf.__version__"
   ]
  },
  {
   "cell_type": "markdown",
   "metadata": {
    "id": "n5Grkqu4mO5I"
   },
   "source": [
    "**Neural network model:**"
   ]
  },
  {
   "cell_type": "code",
   "execution_count": 12,
   "metadata": {
    "id": "qRqK7hOj7_Bl"
   },
   "outputs": [],
   "source": [
    "model = Sequential()"
   ]
  },
  {
   "cell_type": "code",
   "execution_count": 13,
   "metadata": {
    "id": "-ktQIpV_95Cs"
   },
   "outputs": [],
   "source": [
    "model.add(Dense(512, activation='relu'))\n",
    "model.add(Dense(256, activation ='relu'))\n",
    "model.add(Dense(128, activation='relu'))\n",
    "model.add(Dense(64, activation='relu'))\n",
    "model.add(Dense(32, activation ='relu'))\n",
    "model.add(Dense(10, activation='softmax'))"
   ]
  },
  {
   "cell_type": "code",
   "execution_count": 14,
   "metadata": {
    "id": "IlDKeQlu-h7W"
   },
   "outputs": [],
   "source": [
    "model.compile(loss='categorical_crossentropy', optimizer='adam', metrics=['accuracy'])"
   ]
  },
  {
   "cell_type": "code",
   "execution_count": 15,
   "metadata": {
    "colab": {
     "base_uri": "https://localhost:8080/"
    },
    "id": "VP_rREzQ-oOT",
    "outputId": "e4d6b03a-2b01-4e92-ff77-93c906b25892"
   },
   "outputs": [
    {
     "name": "stdout",
     "output_type": "stream",
     "text": [
      "Epoch 1/10\n",
      "165/165 [==============================] - 25s 22ms/step - loss: 2.3065 - accuracy: 0.1001\n",
      "Epoch 2/10\n",
      "165/165 [==============================] - 4s 22ms/step - loss: 2.2771 - accuracy: 0.1198\n",
      "Epoch 3/10\n",
      "165/165 [==============================] - 4s 22ms/step - loss: 2.0225 - accuracy: 0.2401\n",
      "Epoch 4/10\n",
      "165/165 [==============================] - 4s 22ms/step - loss: 1.5922 - accuracy: 0.4433\n",
      "Epoch 5/10\n",
      "165/165 [==============================] - 4s 22ms/step - loss: 1.3643 - accuracy: 0.5454\n",
      "Epoch 6/10\n",
      "165/165 [==============================] - 4s 22ms/step - loss: 1.2353 - accuracy: 0.5959\n",
      "Epoch 7/10\n",
      "165/165 [==============================] - 4s 22ms/step - loss: 1.1737 - accuracy: 0.6183\n",
      "Epoch 8/10\n",
      "165/165 [==============================] - 4s 22ms/step - loss: 1.0710 - accuracy: 0.6581\n",
      "Epoch 9/10\n",
      "165/165 [==============================] - 4s 22ms/step - loss: 1.0280 - accuracy: 0.6764\n",
      "Epoch 10/10\n",
      "165/165 [==============================] - 4s 22ms/step - loss: 0.9981 - accuracy: 0.6852\n"
     ]
    },
    {
     "data": {
      "text/plain": [
       "<keras.callbacks.History at 0x7fb9e5ded350>"
      ]
     },
     "execution_count": 15,
     "metadata": {
      "tags": []
     },
     "output_type": "execute_result"
    }
   ],
   "source": [
    "model.fit(X_train, y_train, epochs=10, batch_size=256, verbose=1) "
   ]
  },
  {
   "cell_type": "code",
   "execution_count": 16,
   "metadata": {
    "colab": {
     "base_uri": "https://localhost:8080/"
    },
    "id": "BIvHi8vyGDhq",
    "outputId": "b70b24f6-5e60-456b-b684-2aaed76de7c0"
   },
   "outputs": [
    {
     "name": "stdout",
     "output_type": "stream",
     "text": [
      "563/563 [==============================] - 2s 3ms/step - loss: 1.0469 - accuracy: 0.6603\n"
     ]
    }
   ],
   "source": [
    "results = model.evaluate(X_test, y_test)"
   ]
  },
  {
   "cell_type": "code",
   "execution_count": 17,
   "metadata": {
    "colab": {
     "base_uri": "https://localhost:8080/"
    },
    "id": "i58B3I9fGGgl",
    "outputId": "e0cabc49-8fa2-4d6a-b4dd-ca8fc87ed96a"
   },
   "outputs": [
    {
     "name": "stdout",
     "output_type": "stream",
     "text": [
      "['loss', 'accuracy']\n",
      "[1.046895980834961, 0.6603333353996277]\n"
     ]
    }
   ],
   "source": [
    "print(model.metrics_names)\n",
    "print(results)    "
   ]
  },
  {
   "cell_type": "code",
   "execution_count": 18,
   "metadata": {
    "id": "WVtjSqIaILH4"
   },
   "outputs": [],
   "source": [
    "y_pred=model.predict_classes(X_test)"
   ]
  },
  {
   "cell_type": "code",
   "execution_count": 19,
   "metadata": {
    "id": "7LLei9fCITlR"
   },
   "outputs": [],
   "source": [
    "test_y=[]\n",
    "for val in y_test:\n",
    "  test_y.append(np.argmax(val))"
   ]
  },
  {
   "cell_type": "code",
   "execution_count": 20,
   "metadata": {
    "colab": {
     "base_uri": "https://localhost:8080/"
    },
    "id": "UgIbup_VHwX_",
    "outputId": "957ce18a-fe59-4eaf-9e78-712133f8e16d"
   },
   "outputs": [
    {
     "data": {
      "text/plain": [
       "array([[1232,   76,   37,   26,   70,   37,   56,   47,  117,  116],\n",
       "       [  62, 1287,   45,   67,  165,   42,   20,   72,   40,   28],\n",
       "       [  67,   67, 1319,   65,   62,   30,   13,  105,   30,   45],\n",
       "       [  76,  103,   90, 1026,   62,  182,   20,   73,   61,   26],\n",
       "       [  50,   96,   39,   19, 1415,   32,   63,   12,   49,   37],\n",
       "       [  99,   71,   27,  164,   61, 1030,  178,   34,   71,   33],\n",
       "       [  99,   62,   21,   25,  124,   84, 1189,   16,  202,   10],\n",
       "       [  53,   85,  151,   48,   29,   39,   15, 1336,   14,   38],\n",
       "       [ 126,   77,   32,   42,  107,  104,  274,   22,  975,   53],\n",
       "       [ 240,   76,   49,   83,   70,   75,   15,   53,   66, 1077]])"
      ]
     },
     "execution_count": 20,
     "metadata": {
      "tags": []
     },
     "output_type": "execute_result"
    }
   ],
   "source": [
    "from sklearn import metrics\n",
    "\n",
    "cm = metrics.confusion_matrix(test_y, y_pred)\n",
    "\n",
    "cm"
   ]
  }
 ],
 "metadata": {
  "colab": {
   "collapsed_sections": [],
   "name": "Neural Networks Project",
   "provenance": []
  },
  "kernelspec": {
   "display_name": "Python 3",
   "language": "python",
   "name": "python3"
  },
  "language_info": {
   "codemirror_mode": {
    "name": "ipython",
    "version": 3
   },
   "file_extension": ".py",
   "mimetype": "text/x-python",
   "name": "python",
   "nbconvert_exporter": "python",
   "pygments_lexer": "ipython3",
   "version": "3.8.5"
  }
 },
 "nbformat": 4,
 "nbformat_minor": 1
}
